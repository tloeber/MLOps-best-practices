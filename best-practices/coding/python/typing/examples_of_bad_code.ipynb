{
 "cells": [
  {
   "cell_type": "markdown",
   "metadata": {},
   "source": [
    "# Unclear types (from docs *and* source code)"
   ]
  },
  {
   "cell_type": "markdown",
   "metadata": {
    "vscode": {
     "languageId": "plaintext"
    }
   },
   "source": [
    "## Uber's H3 geospatial library:\n",
    "[This is one of the library's core functions.](https://uber.github.io/h3-py/api_reference#h3.latlng_to_cell)  We can guess that lat and long probably accept any numeric input values, but does it work with arrays?\n",
    "![Alt text](../../../../_img/h3.png) \n",
    "We can't even find any more useful details in the source code, since this python function just wraps C code.\n",
    "\n",
    "(Note that this for v3.7.6, which is the latest stable version as of Dec 18, 2023)."
   ]
  },
  {
   "cell_type": "markdown",
   "metadata": {},
   "source": [
    "# Dedicated discussions of specific librarys' shortcomings\n",
    "- Sagemaker: See [here](../../../MLOps/platforms/specific_platforms/sagemaker/readme.md)"
   ]
  }
 ],
 "metadata": {
  "kernelspec": {
   "display_name": "presentations-X1dq4RR9",
   "language": "python",
   "name": "python3"
  },
  "language_info": {
   "name": "python",
   "version": "3.10.12"
  }
 },
 "nbformat": 4,
 "nbformat_minor": 2
}
