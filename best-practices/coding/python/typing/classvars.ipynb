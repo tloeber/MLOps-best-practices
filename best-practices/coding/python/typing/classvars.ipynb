{
 "cells": [
  {
   "cell_type": "code",
   "execution_count": 1,
   "metadata": {},
   "outputs": [
    {
     "name": "stderr",
     "output_type": "stream",
     "text": [
      "Version 1.0.5\n"
     ]
    }
   ],
   "source": [
    "%load_ext nb_mypy"
   ]
  },
  {
   "cell_type": "markdown",
   "metadata": {},
   "source": [
    "# Providing default value does not require allowing `None` as arg type\n",
    "This is good, because we don't have to do anything awkward to satisfy mypy.  I wasn't sure whether mypy would complain if the user does not set the attribute, as this is usually equivalent to the user setting it to `None`."
   ]
  },
  {
   "cell_type": "code",
   "execution_count": 5,
   "metadata": {},
   "outputs": [],
   "source": [
    "from typing import TypeAlias, ClassVar, Any\n",
    "import os\n",
    "\n",
    "default_attribute: str = 'abc'\n",
    "\n",
    "class MyClass:\n",
    "    def __init__(self, my_attribute: str = default_attribute):\n",
    "        self.attribute: str = my_attribute\n",
    "\n",
    "my_class = MyClass()"
   ]
  },
  {
   "cell_type": "markdown",
   "metadata": {},
   "source": [
    "However, if the user explicitly sets the argument to `None`, mypy *does* complain. This is the desired behavior, as we wouldn't want the user to be  able to override the default value of with a  different type."
   ]
  },
  {
   "cell_type": "code",
   "execution_count": 6,
   "metadata": {},
   "outputs": [
    {
     "name": "stderr",
     "output_type": "stream",
     "text": [
      "<cell>1: \u001b[1m\u001b[31merror:\u001b[m Argument \u001b[m\u001b[1m\"my_attribute\"\u001b[m to \u001b[m\u001b[1m\"MyClass\"\u001b[m has incompatible type \u001b[m\u001b[1m\"None\"\u001b[m; expected \u001b[m\u001b[1m\"str\"\u001b[m  \u001b[m\u001b[33m[arg-type]\u001b[m\n"
     ]
    }
   ],
   "source": [
    "my_class = MyClass(my_attribute=None)"
   ]
  }
 ],
 "metadata": {
  "kernelspec": {
   "display_name": "presentations-X1dq4RR9",
   "language": "python",
   "name": "python3"
  },
  "language_info": {
   "codemirror_mode": {
    "name": "ipython",
    "version": 3
   },
   "file_extension": ".py",
   "mimetype": "text/x-python",
   "name": "python",
   "nbconvert_exporter": "python",
   "pygments_lexer": "ipython3",
   "version": "3.10.12"
  }
 },
 "nbformat": 4,
 "nbformat_minor": 2
}
