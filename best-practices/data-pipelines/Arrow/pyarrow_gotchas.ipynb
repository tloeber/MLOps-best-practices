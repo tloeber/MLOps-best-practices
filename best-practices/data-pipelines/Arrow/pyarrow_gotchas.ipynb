{
 "cells": [
  {
   "cell_type": "code",
   "execution_count": null,
   "metadata": {},
   "outputs": [],
   "source": [
    "import pandas as pd\n",
    "import pyarrow as pa"
   ]
  },
  {
   "cell_type": "markdown",
   "metadata": {},
   "source": [
    "# Pandas + Arrrow backend\n",
    "df.convert_dtypes() is not working with Arrow dtypes!"
   ]
  },
  {
   "cell_type": "code",
   "execution_count": null,
   "metadata": {},
   "outputs": [
    {
     "data": {
      "text/plain": [
       "a    float[pyarrow]\n",
       "dtype: object"
      ]
     },
     "metadata": {},
     "output_type": "display_data"
    }
   ],
   "source": [
    "pd.DataFrame(\n",
    "    {'a': [1, 2, 3]},\n",
    "    dtype='floata[pyarrow]',\n",
    ") \\\n",
    ".convert_dtypes(\n",
    "    dtype_backend='pyarrow',\n",
    ") \\\n",
    ".dtypes\n"
   ]
  },
  {
   "cell_type": "markdown",
   "metadata": {},
   "source": [
    "We see that it does not convert the dtype to integer, as it should. However, if we use numpy as the dtypebackend , it does work:"
   ]
  },
  {
   "cell_type": "code",
   "execution_count": null,
   "metadata": {},
   "outputs": [
    {
     "data": {
      "text/plain": [
       "a    Int64\n",
       "dtype: object"
      ]
     },
     "metadata": {},
     "output_type": "display_data"
    }
   ],
   "source": [
    "pd.DataFrame(\n",
    "    {'a': [1, 2, 3]},\n",
    "    dtype='float',\n",
    ") \\\n",
    ".convert_dtypes() \\\n",
    ".dtypes\n"
   ]
  },
  {
   "cell_type": "markdown",
   "metadata": {},
   "source": [
    "# Pyarrow\n",
    "## Casting schema"
   ]
  }
 ],
 "metadata": {
  "language_info": {
   "name": "python"
  }
 },
 "nbformat": 4,
 "nbformat_minor": 2
}
